{
 "cells": [
  {
   "cell_type": "code",
   "execution_count": 16,
   "metadata": {
    "collapsed": false
   },
   "outputs": [],
   "source": [
    "import os\n",
    "import exifread\n",
    "import pandas as pd\n",
    "import fiona\n",
    "from itertools import chain\n",
    "from mpl_toolkits.basemap import Basemap\n",
    "\n",
    "%matplotlib inline"
   ]
  },
  {
   "cell_type": "code",
   "execution_count": 17,
   "metadata": {
    "collapsed": false
   },
   "outputs": [
    {
     "name": "stdout",
     "output_type": "stream",
     "text": [
      "{'lat': [42.4485, 42.4483, 42.4474, 42.4477, 42.4473, 42.4475, 42.4484, 42.4479, 42.4484, 42.4498, 42.4498, 42.45, 42.45, 42.4503, 42.4512, 42.4532, 42.4532, 42.4492, 42.4494, 42.4498, 42.4488, 42.4482, 42.4476, 42.4474, 42.4484, 42.4479, 42.4464, 42.4452, 42.4452, 42.4447, 42.448, 42.4481, 42.4485], 'lon': [-75.5113, -75.5115, -75.5118, -75.515, -75.5153, -75.516, -75.5194, -75.5193, -75.5219, -75.522, -75.522, -75.5223, -75.5223, -75.522, -75.5203, -75.5195, -75.5187, -75.5127, -75.5118, -75.5101, -75.5115, -75.5115, -75.5112, -75.5119, -75.512, -75.5149, -75.5283, -75.5192, -75.5192, -75.5187, -75.5193, -75.5194, -75.5178], 'name': ['IMG_6678.JPG', 'IMG_6679.JPG', 'IMG_6680.JPG', 'IMG_6681.JPG', 'IMG_6682.JPG', 'IMG_6683.JPG', 'IMG_6684.JPG', 'IMG_6686.JPG', 'IMG_6687.JPG', 'IMG_6688.JPG', 'IMG_6689.JPG', 'IMG_6690 (1).JPG', 'IMG_6690.JPG', 'IMG_6691.JPG', 'IMG_6692.JPG', 'IMG_6695.JPG', 'IMG_6696.JPG', 'IMG_6697.JPG', 'IMG_6698.JPG', 'IMG_6714.JPG', 'IMG_6715.JPG', 'IMG_6716.JPG', 'IMG_6717.JPG', 'IMG_6718.JPG', 'IMG_6719.JPG', 'IMG_6720.JPG', 'IMG_6757.JPG', 'IMG_6758 (1).JPG', 'IMG_6758.JPG', 'IMG_6759.JPG', 'IMG_6760.JPG', 'IMG_6761.JPG', 'IMG_6762.JPG']}\n"
     ]
    }
   ],
   "source": [
    "# sets up dictionary for lat/long/photo name\n",
    "output = dict()\n",
    "output['name'] = []\n",
    "output['lon'] = []\n",
    "output['lat'] = []\n",
    "\n",
    "#set photo directory + photo file type of interest\n",
    "path = '/Users/elizabeth/Google Drive/NTRES_3260_Budbreak/Dana_photos/April1827/'\n",
    "file_type = '.JPG'\n",
    "\n",
    "for file in os.listdir(path):\n",
    "    \n",
    "    if file.endswith(file_type):\n",
    "        \n",
    "        full_path = path + file\n",
    "        f = open(full_path, 'rb') #opens photo for processing\n",
    "        tags = exifread.process_file(f) #grabs all exif tag data\n",
    "        \n",
    "        for tag in tags:\n",
    "            \n",
    "            # in exhaustive manner, turns GPS IdfTag into float decimal\n",
    "            #.values gets values from IdfTag format\n",
    "            #.num (or .den) gets float values from Ratio, the default type for all the values in the tag\n",
    "\n",
    "            if tag in ('GPS GPSLongitude'):\n",
    "                \n",
    "                output['name'].append(file) #adds photo name to dictionary; does it here to ensure that photo has GPS data\n",
    "                \n",
    "                coord = tags[tag]\n",
    "                \n",
    "                if tags['GPS GPSLongitudeRef'].values == 'W':\n",
    "                    degrees = - coord.values[0].num\n",
    "                else:\n",
    "                    degrees = coord.values[0].num\n",
    "                minutes = coord.values[1].num/60. \n",
    "                seconds = coord.values[2].num/coord.values[2].den/3600\n",
    "                \n",
    "                decimal_lon = round(degrees + minutes + seconds, 4) \n",
    "                output['lon'].append(decimal_lon) #appends to dictionary\n",
    "\n",
    "            if tag in ('GPS GPSLatitude'):\n",
    "\n",
    "                coord = tags[tag]\n",
    "                \n",
    "                if tags['GPS GPSLatitudeRef'] == 'S':\n",
    "                    degrees = - coord.values[0].num\n",
    "                else:\n",
    "                    degrees = coord.values[0].num\n",
    "                minutes = coord.values[1].num/60. \n",
    "                seconds = coord.values[2].num/coord.values[2].den/3600\n",
    "                \n",
    "                decimal_lat = round(degrees + minutes + seconds, 4)\n",
    "                output['lat'].append(decimal_lat) #appends to dictionary\n",
    "\n",
    "print (output)"
   ]
  },
  {
   "cell_type": "code",
   "execution_count": 18,
   "metadata": {
    "collapsed": false
   },
   "outputs": [
    {
     "name": "stdout",
     "output_type": "stream",
     "text": [
      "        lat      lon              name\n",
      "0   42.4485 -75.5113      IMG_6678.JPG\n",
      "1   42.4483 -75.5115      IMG_6679.JPG\n",
      "2   42.4474 -75.5118      IMG_6680.JPG\n",
      "3   42.4477 -75.5150      IMG_6681.JPG\n",
      "4   42.4473 -75.5153      IMG_6682.JPG\n",
      "5   42.4475 -75.5160      IMG_6683.JPG\n",
      "6   42.4484 -75.5194      IMG_6684.JPG\n",
      "7   42.4479 -75.5193      IMG_6686.JPG\n",
      "8   42.4484 -75.5219      IMG_6687.JPG\n",
      "9   42.4498 -75.5220      IMG_6688.JPG\n",
      "10  42.4498 -75.5220      IMG_6689.JPG\n",
      "11  42.4500 -75.5223  IMG_6690 (1).JPG\n",
      "12  42.4500 -75.5223      IMG_6690.JPG\n",
      "13  42.4503 -75.5220      IMG_6691.JPG\n",
      "14  42.4512 -75.5203      IMG_6692.JPG\n",
      "15  42.4532 -75.5195      IMG_6695.JPG\n",
      "16  42.4532 -75.5187      IMG_6696.JPG\n",
      "17  42.4492 -75.5127      IMG_6697.JPG\n",
      "18  42.4494 -75.5118      IMG_6698.JPG\n",
      "19  42.4498 -75.5101      IMG_6714.JPG\n",
      "20  42.4488 -75.5115      IMG_6715.JPG\n",
      "21  42.4482 -75.5115      IMG_6716.JPG\n",
      "22  42.4476 -75.5112      IMG_6717.JPG\n",
      "23  42.4474 -75.5119      IMG_6718.JPG\n",
      "24  42.4484 -75.5120      IMG_6719.JPG\n",
      "25  42.4479 -75.5149      IMG_6720.JPG\n",
      "26  42.4464 -75.5283      IMG_6757.JPG\n",
      "27  42.4452 -75.5192  IMG_6758 (1).JPG\n",
      "28  42.4452 -75.5192      IMG_6758.JPG\n",
      "29  42.4447 -75.5187      IMG_6759.JPG\n",
      "30  42.4480 -75.5193      IMG_6760.JPG\n",
      "31  42.4481 -75.5194      IMG_6761.JPG\n",
      "32  42.4485 -75.5178      IMG_6762.JPG\n"
     ]
    }
   ],
   "source": [
    "df = pd.DataFrame(output)\n",
    "df[['lon', 'lat']] = df[['lon', 'lat']].astype(float)\n",
    "print (df)"
   ]
  },
  {
   "cell_type": "code",
   "execution_count": 19,
   "metadata": {
    "collapsed": false
   },
   "outputs": [],
   "source": [
    "shp = fiona.open('nys_gis/CEN2000nycty.036.shp.07865/cty036.shp')\n",
    "bds = shp.bounds\n",
    "shp.close()\n",
    "extra = 0.01\n",
    "ll = (bds[0], bds[1])\n",
    "ur = (bds[2], bds[3])\n",
    "coords = list(chain(ll, ur))\n",
    "w, h = coords[2] - coords[0], coords[3] - coords[1]"
   ]
  },
  {
   "cell_type": "code",
   "execution_count": 79,
   "metadata": {
    "collapsed": false
   },
   "outputs": [
    {
     "name": "stdout",
     "output_type": "stream",
     "text": [
      "42.4576 -76.5488\n"
     ]
    },
    {
     "data": {
      "text/plain": [
       "<matplotlib.collections.PathCollection at 0x10b0a1160>"
      ]
     },
     "execution_count": 79,
     "metadata": {},
     "output_type": "execute_result"
    },
    {
     "data": {
      "image/png": "[encoded data removed]",
      "text/plain": [
       "<matplotlib.figure.Figure at 0x122594710>"
      ]
     },
     "metadata": {},
     "output_type": "display_data"
    }
   ],
   "source": [
    "m = Basemap(\n",
    "    projection='tmerc',\n",
    "    lon_0=-76.5488,\n",
    "    lat_0=42.4576,\n",
    "    #ellps = 'WGS84',\n",
    "    llcrnrlon=-76.5488+1,\n",
    "    llcrnrlat=42.4576-1,\n",
    "    urcrnrlon=-76.5488-1,\n",
    "    urcrnrlat=42.4576+1,\n",
    "    lat_ts=0,\n",
    "    resolution='h',\n",
    "    suppress_ticks=True)\n",
    "\n",
    "m.fillcontinents(color='#ddaa66',lake_color='aqua')\n",
    "\n",
    "m.readshapefile(\n",
    "    'nys_gis/CEN2000nycty.036.shp.07865/cty036', 'nystate',\n",
    "    drawbounds = False)\n",
    "\n",
    "for info, shape in zip(m.nystate_info, m.nystate):\n",
    "    if info['NAME'] == 'Tompkins':\n",
    "        x, y = zip(*shape)\n",
    "        m.plot(x, y, marker=None, color='m')\n",
    "\n",
    "lat1 = output['lat']\n",
    "lon1 = output['lon']\n",
    "print (lat, lon)\n",
    "\n",
    "lon = -76.5488\n",
    "lat = 42.4576\n",
    "x,y = m(lon, lat)\n",
    "\n",
    "m.scatter(x,y,3,marker='o',color='k')"
   ]
  },
  {
   "cell_type": "code",
   "execution_count": null,
   "metadata": {
    "collapsed": true
   },
   "outputs": [],
   "source": [
    "from netCDF4 import Dataset, num2date\n",
    "import time, calendar, datetime, numpy\n",
    "from mpl_toolkits.basemap import Basemap\n",
    "import matplotlib.pyplot as plt\n",
    "import urllib, os\n",
    "# data downloaded from the form at\n",
    "# http://coastwatch.pfeg.noaa.gov/erddap/tabledap/apdrcArgoAll.html\n",
    "filename, headers = urllib.urlretrieve('http://coastwatch.pfeg.noaa.gov/erddap/tabledap/apdrcArgoAll.nc?longitude,latitude,time&longitude>=0&longitude<=360&latitude>=-90&latitude<=90&time>=2010-01-01&time<=2010-01-08&distinct()')\n",
    "dset = Dataset(filename)\n",
    "lats = dset.variables['latitude'][:]\n",
    "lons = dset.variables['longitude'][:]\n",
    "time = dset.variables['time']\n",
    "times = time[:]\n",
    "t1 = times.min(); t2 = times.max()\n",
    "date1 = num2date(t1, units=time.units)\n",
    "date2 = num2date(t2, units=time.units)\n",
    "dset.close()\n",
    "os.remove(filename)\n",
    "# draw map with markers for float locations\n",
    "m = Basemap(projection='hammer',lon_0=180)\n",
    "x, y = m(lons,lats)\n",
    "m.drawmapboundary(fill_color='#99ffff')\n",
    "m.fillcontinents(color='#cc9966',lake_color='#99ffff')\n",
    "m.scatter(x,y,3,marker='o',color='k')\n",
    "plt.title('Locations of %s ARGO floats active between %s and %s' %\\\n",
    "        (len(lats),date1,date2),fontsize=12)\n",
    "plt.show()"
   ]
  }
 ],
 "metadata": {
  "kernelspec": {
   "display_name": "Python 3",
   "language": "python",
   "name": "python3"
  },
  "language_info": {
   "codemirror_mode": {
    "name": "ipython",
    "version": 3
   },
   "file_extension": ".py",
   "mimetype": "text/x-python",
   "name": "python",
   "nbconvert_exporter": "python",
   "pygments_lexer": "ipython3",
   "version": "3.5.1"
  }
 },
 "nbformat": 4,
 "nbformat_minor": 0
}
